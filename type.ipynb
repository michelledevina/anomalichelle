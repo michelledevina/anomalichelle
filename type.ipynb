x = 42
print(type(x))

y = "Python"
print(type(y))
