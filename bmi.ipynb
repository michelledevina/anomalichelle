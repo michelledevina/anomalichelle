def hitung_berat_badan(tinggi_badan, bmi_harapan):

    berat_diperlukan = bmi_harapan * (tinggi_badan ** 2)
    return berat_diperlukan

# Meminta input dari pengguna
tinggi = float(input("Masukkan tinggi badan (m): "))
bmi_harapan = float(input("Masukkan nilai BMI yang diharapkan: "))

# Menghitung berat badan yang diperlukan
berat_diperlukan = hitung_berat_badan(tinggi, bmi_harapan)

# Menampilkan hasil
print(f"Berat badan yang diperlukan untuk mencapai BMI {bmi_harapan} dengan tinggi {tinggi} m adalah {berat_diperlukan:.2f} kg")
