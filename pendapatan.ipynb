def hitung_keuangan(gaji_per_jam, jam_per_minggu):
    minggu_kerja = 5
    total_jam = minggu_kerja * jam_per_minggu
    pendapatan_kotor = gaji_per_jam * total_jam
    
    # Menghitung pajak
    pajak = 0.14 * pendapatan_kotor
    pendapatan_bersih = pendapatan_kotor - pajak
    
    # Pengeluaran
    pakaian_aksesoris = 0.10 * pendapatan_bersih
    alat_tulis = 0.01 * pendapatan_bersih
    
    # Sedekah
    sisa_setelah_belanja = pendapatan_bersih - (pakaian_aksesoris + alat_tulis)
    sedekah = 0.25 * sisa_setelah_belanja
    
    # Pembagian sedekah
    anak_yatim = 0.30 * (sedekah // 1000) * 1000
    kaum_dhuafa = sedekah - anak_yatim
    
    return (pendapatan_kotor, pendapatan_bersih, pakaian_aksesoris, alat_tulis, sedekah, anak_yatim, kaum_dhuafa)

# Meminta input dari pengguna
gaji_per_jam = float(input("Masukkan gaji per jam: "))
jam_per_minggu = int(input("Masukkan jumlah jam kerja per minggu: "))

# Menghitung hasil
hasil = hitung_keuangan(gaji_per_jam, jam_per_minggu)

# Menampilkan hasil
print(f"Pendapatan sebelum bayar pajak: Rp{hasil[0]:,.2f}")
print(f"Pendapatan setelah bayar pajak: Rp{hasil[1]:,.2f}")
print(f"Pengeluaran untuk pakaian dan aksesoris: Rp{hasil[2]:,.2f}")
print(f"Pengeluaran untuk alat tulis: Rp{hasil[3]:,.2f}")
print(f"Total sedekah: Rp{hasil[4]:,.2f}")
print(f"Jumlah untuk anak yatim: Rp{hasil[5]:,.2f}")
print(f"Jumlah untuk kaum dhuafa: Rp{hasil[6]:,.2f}")
