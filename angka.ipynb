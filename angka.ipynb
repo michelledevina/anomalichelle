def hitung_fungsi(x):
    if x == 0:
        return
    
    hasil = (2 * (x ** 3) + 2 * x + 15) / x
    return hasil

# Meminta input dari pengguna
x = int(input("Masukkan bilangan bulat x: "))

# Menghitung hasil fungsi
hasil_fungsi = hitung_fungsi(x)

# Menampilkan hasil
print(f"Hasil dari f({x}) adalah {hasil_fungsi}")
